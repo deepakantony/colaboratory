{
  "nbformat": 4,
  "nbformat_minor": 0,
  "metadata": {
    "kernelspec": {
      "display_name": "Python 3",
      "language": "python",
      "name": "python3"
    },
    "language_info": {
      "codemirror_mode": {
        "name": "ipython",
        "version": 3
      },
      "file_extension": ".py",
      "mimetype": "text/x-python",
      "name": "python",
      "nbconvert_exporter": "python",
      "pygments_lexer": "ipython3",
      "version": "3.7.1"
    },
    "colab": {
      "name": "60min_blitz_what_is_pytorch.ipynb",
      "version": "0.3.2",
      "provenance": [],
      "include_colab_link": true
    }
  },
  "cells": [
    {
      "cell_type": "markdown",
      "metadata": {
        "id": "view-in-github",
        "colab_type": "text"
      },
      "source": [
        "<a href=\"https://colab.research.google.com/github/deepakantony/colaboratory/blob/master/60min_blitz_what_is_pytorch.ipynb\" target=\"_parent\"><img src=\"https://colab.research.google.com/assets/colab-badge.svg\" alt=\"Open In Colab\"/></a>"
      ]
    },
    {
      "cell_type": "code",
      "metadata": {
        "id": "m_GNsHpvYipr",
        "colab_type": "code",
        "colab": {}
      },
      "source": [
        "import torch"
      ],
      "execution_count": 0,
      "outputs": []
    },
    {
      "cell_type": "code",
      "metadata": {
        "id": "HvdGvCfzYipw",
        "colab_type": "code",
        "colab": {
          "base_uri": "https://localhost:8080/",
          "height": 102
        },
        "outputId": "017d4777-6a88-4bee-cb9b-4673b96ff538"
      },
      "source": [
        "x = torch.empty(5,3)\n",
        "print(x)"
      ],
      "execution_count": 3,
      "outputs": [
        {
          "output_type": "stream",
          "text": [
            "tensor([[1.2286e-36, 0.0000e+00, 3.3631e-44],\n",
            "        [0.0000e+00,        nan, 0.0000e+00],\n",
            "        [1.1578e+27, 1.1362e+30, 7.1547e+22],\n",
            "        [4.5828e+30, 1.2121e+04, 7.1846e+22],\n",
            "        [9.2198e-39, 0.0000e+00, 0.0000e+00]])\n"
          ],
          "name": "stdout"
        }
      ]
    },
    {
      "cell_type": "code",
      "metadata": {
        "id": "H9KYGHB6Yipz",
        "colab_type": "code",
        "colab": {
          "base_uri": "https://localhost:8080/",
          "height": 85
        },
        "outputId": "d3a5a39c-9dfd-4641-8159-a167719da58a"
      },
      "source": [
        "x = torch.rand(4, 4)\n",
        "print(x)"
      ],
      "execution_count": 4,
      "outputs": [
        {
          "output_type": "stream",
          "text": [
            "tensor([[0.2013, 0.3602, 0.7916, 0.4257],\n",
            "        [0.2610, 0.4289, 0.1410, 0.0622],\n",
            "        [0.5626, 0.6453, 0.2108, 0.5234],\n",
            "        [0.8219, 0.7828, 0.1251, 0.8728]])\n"
          ],
          "name": "stdout"
        }
      ]
    },
    {
      "cell_type": "code",
      "metadata": {
        "id": "GBz_1lpKYip2",
        "colab_type": "code",
        "colab": {
          "base_uri": "https://localhost:8080/",
          "height": 102
        },
        "outputId": "fbc41164-9b9d-44dc-940d-9b1d1d4a3aa2"
      },
      "source": [
        "x = torch.zeros(5,3,dtype=torch.long)\n",
        "print(x)"
      ],
      "execution_count": 5,
      "outputs": [
        {
          "output_type": "stream",
          "text": [
            "tensor([[0, 0, 0],\n",
            "        [0, 0, 0],\n",
            "        [0, 0, 0],\n",
            "        [0, 0, 0],\n",
            "        [0, 0, 0]])\n"
          ],
          "name": "stdout"
        }
      ]
    },
    {
      "cell_type": "code",
      "metadata": {
        "id": "e3sC71TPYip4",
        "colab_type": "code",
        "colab": {
          "base_uri": "https://localhost:8080/",
          "height": 51
        },
        "outputId": "d0231c39-6703-47c9-d115-045b679439f9"
      },
      "source": [
        "x = torch.tensor([[10, 10, 3],[3,4,3]])\n",
        "print(x)"
      ],
      "execution_count": 6,
      "outputs": [
        {
          "output_type": "stream",
          "text": [
            "tensor([[10, 10,  3],\n",
            "        [ 3,  4,  3]])\n"
          ],
          "name": "stdout"
        }
      ]
    },
    {
      "cell_type": "code",
      "metadata": {
        "id": "OJSPI3XeYip6",
        "colab_type": "code",
        "colab": {
          "base_uri": "https://localhost:8080/",
          "height": 187
        },
        "outputId": "711f7524-362a-4545-9e11-bd6203fcf75a"
      },
      "source": [
        "x = x.new_ones(5,3,dtype=torch.double)\n",
        "print(x)\n",
        "y = torch.randn_like(x,dtype=torch.float)\n",
        "print(y)"
      ],
      "execution_count": 7,
      "outputs": [
        {
          "output_type": "stream",
          "text": [
            "tensor([[1., 1., 1.],\n",
            "        [1., 1., 1.],\n",
            "        [1., 1., 1.],\n",
            "        [1., 1., 1.],\n",
            "        [1., 1., 1.]], dtype=torch.float64)\n",
            "tensor([[-1.0458,  1.1692, -0.9716],\n",
            "        [-1.0330,  1.6976,  1.2176],\n",
            "        [ 1.8231,  2.9259, -0.4885],\n",
            "        [ 0.5237, -1.0424,  0.0122],\n",
            "        [-1.7304, -0.1670, -0.5299]])\n"
          ],
          "name": "stdout"
        }
      ]
    },
    {
      "cell_type": "code",
      "metadata": {
        "id": "b6E65pQIYip9",
        "colab_type": "code",
        "colab": {
          "base_uri": "https://localhost:8080/",
          "height": 119
        },
        "outputId": "857cda26-2774-4ee8-f5d4-da6f8a812425"
      },
      "source": [
        "print(y.size())\n",
        "y=y.type(torch.double)\n",
        "print(y)"
      ],
      "execution_count": 8,
      "outputs": [
        {
          "output_type": "stream",
          "text": [
            "torch.Size([5, 3])\n",
            "tensor([[-1.0458,  1.1692, -0.9716],\n",
            "        [-1.0330,  1.6976,  1.2176],\n",
            "        [ 1.8231,  2.9259, -0.4885],\n",
            "        [ 0.5237, -1.0424,  0.0122],\n",
            "        [-1.7304, -0.1670, -0.5299]], dtype=torch.float64)\n"
          ],
          "name": "stdout"
        }
      ]
    },
    {
      "cell_type": "code",
      "metadata": {
        "id": "5CaBdRtxYip_",
        "colab_type": "code",
        "colab": {
          "base_uri": "https://localhost:8080/",
          "height": 102
        },
        "outputId": "1860560b-2af3-43b8-d8e1-621c33baaaf5"
      },
      "source": [
        "print(x+y)"
      ],
      "execution_count": 9,
      "outputs": [
        {
          "output_type": "stream",
          "text": [
            "tensor([[-0.0458,  2.1692,  0.0284],\n",
            "        [-0.0330,  2.6976,  2.2176],\n",
            "        [ 2.8231,  3.9259,  0.5115],\n",
            "        [ 1.5237, -0.0424,  1.0122],\n",
            "        [-0.7304,  0.8330,  0.4701]], dtype=torch.float64)\n"
          ],
          "name": "stdout"
        }
      ]
    },
    {
      "cell_type": "code",
      "metadata": {
        "id": "ZSelJWVNYiqB",
        "colab_type": "code",
        "colab": {
          "base_uri": "https://localhost:8080/",
          "height": 102
        },
        "outputId": "bc3b4f85-b2e3-4675-fe6a-4f9b1ed99fae"
      },
      "source": [
        "print(x.add(y))"
      ],
      "execution_count": 10,
      "outputs": [
        {
          "output_type": "stream",
          "text": [
            "tensor([[-0.0458,  2.1692,  0.0284],\n",
            "        [-0.0330,  2.6976,  2.2176],\n",
            "        [ 2.8231,  3.9259,  0.5115],\n",
            "        [ 1.5237, -0.0424,  1.0122],\n",
            "        [-0.7304,  0.8330,  0.4701]], dtype=torch.float64)\n"
          ],
          "name": "stdout"
        }
      ]
    },
    {
      "cell_type": "code",
      "metadata": {
        "id": "Xb4uL2-2YiqD",
        "colab_type": "code",
        "colab": {
          "base_uri": "https://localhost:8080/",
          "height": 102
        },
        "outputId": "5e5016c5-6b53-4c53-db50-5744d145e926"
      },
      "source": [
        "print(torch.add(x,y))"
      ],
      "execution_count": 11,
      "outputs": [
        {
          "output_type": "stream",
          "text": [
            "tensor([[-0.0458,  2.1692,  0.0284],\n",
            "        [-0.0330,  2.6976,  2.2176],\n",
            "        [ 2.8231,  3.9259,  0.5115],\n",
            "        [ 1.5237, -0.0424,  1.0122],\n",
            "        [-0.7304,  0.8330,  0.4701]], dtype=torch.float64)\n"
          ],
          "name": "stdout"
        }
      ]
    },
    {
      "cell_type": "code",
      "metadata": {
        "id": "pBIvjC92YiqE",
        "colab_type": "code",
        "colab": {
          "base_uri": "https://localhost:8080/",
          "height": 272
        },
        "outputId": "b30037c1-8cfd-49d2-86a2-d22325e99532"
      },
      "source": [
        "print(y)\n",
        "y.add(x)\n",
        "print(y)\n",
        "y.add_(x)\n",
        "print(y)"
      ],
      "execution_count": 12,
      "outputs": [
        {
          "output_type": "stream",
          "text": [
            "tensor([[-1.0458,  1.1692, -0.9716],\n",
            "        [-1.0330,  1.6976,  1.2176],\n",
            "        [ 1.8231,  2.9259, -0.4885],\n",
            "        [ 0.5237, -1.0424,  0.0122],\n",
            "        [-1.7304, -0.1670, -0.5299]], dtype=torch.float64)\n",
            "tensor([[-1.0458,  1.1692, -0.9716],\n",
            "        [-1.0330,  1.6976,  1.2176],\n",
            "        [ 1.8231,  2.9259, -0.4885],\n",
            "        [ 0.5237, -1.0424,  0.0122],\n",
            "        [-1.7304, -0.1670, -0.5299]], dtype=torch.float64)\n",
            "tensor([[-0.0458,  2.1692,  0.0284],\n",
            "        [-0.0330,  2.6976,  2.2176],\n",
            "        [ 2.8231,  3.9259,  0.5115],\n",
            "        [ 1.5237, -0.0424,  1.0122],\n",
            "        [-0.7304,  0.8330,  0.4701]], dtype=torch.float64)\n"
          ],
          "name": "stdout"
        }
      ]
    },
    {
      "cell_type": "code",
      "metadata": {
        "id": "_R_X1ExYYiqG",
        "colab_type": "code",
        "colab": {
          "base_uri": "https://localhost:8080/",
          "height": 68
        },
        "outputId": "7fe964e0-8d22-4265-9c28-28c078127137"
      },
      "source": [
        "print(x.t())"
      ],
      "execution_count": 13,
      "outputs": [
        {
          "output_type": "stream",
          "text": [
            "tensor([[1., 1., 1., 1., 1.],\n",
            "        [1., 1., 1., 1., 1.],\n",
            "        [1., 1., 1., 1., 1.]], dtype=torch.float64)\n"
          ],
          "name": "stdout"
        }
      ]
    },
    {
      "cell_type": "code",
      "metadata": {
        "id": "NRpn8IA8YiqI",
        "colab_type": "code",
        "colab": {
          "base_uri": "https://localhost:8080/",
          "height": 34
        },
        "outputId": "94ae0354-8761-4c9d-bc7d-049bcb5c5123"
      },
      "source": [
        "y[:,2]"
      ],
      "execution_count": 14,
      "outputs": [
        {
          "output_type": "execute_result",
          "data": {
            "text/plain": [
              "tensor([0.0284, 2.2176, 0.5115, 1.0122, 0.4701], dtype=torch.float64)"
            ]
          },
          "metadata": {
            "tags": []
          },
          "execution_count": 14
        }
      ]
    },
    {
      "cell_type": "code",
      "metadata": {
        "id": "haycwVNGYiqK",
        "colab_type": "code",
        "colab": {
          "base_uri": "https://localhost:8080/",
          "height": 102
        },
        "outputId": "5a2fa460-b435-4318-b8de-105b7e51db8d"
      },
      "source": [
        "x.add_(y)"
      ],
      "execution_count": 15,
      "outputs": [
        {
          "output_type": "execute_result",
          "data": {
            "text/plain": [
              "tensor([[0.9542, 3.1692, 1.0284],\n",
              "        [0.9670, 3.6976, 3.2176],\n",
              "        [3.8231, 4.9259, 1.5115],\n",
              "        [2.5237, 0.9576, 2.0122],\n",
              "        [0.2696, 1.8330, 1.4701]], dtype=torch.float64)"
            ]
          },
          "metadata": {
            "tags": []
          },
          "execution_count": 15
        }
      ]
    },
    {
      "cell_type": "code",
      "metadata": {
        "id": "4a-D2dJdYiqL",
        "colab_type": "code",
        "colab": {
          "base_uri": "https://localhost:8080/",
          "height": 102
        },
        "outputId": "1f87a433-f409-4706-b093-d91fffd6e24e"
      },
      "source": [
        "print(x)\n"
      ],
      "execution_count": 16,
      "outputs": [
        {
          "output_type": "stream",
          "text": [
            "tensor([[0.9542, 3.1692, 1.0284],\n",
            "        [0.9670, 3.6976, 3.2176],\n",
            "        [3.8231, 4.9259, 1.5115],\n",
            "        [2.5237, 0.9576, 2.0122],\n",
            "        [0.2696, 1.8330, 1.4701]], dtype=torch.float64)\n"
          ],
          "name": "stdout"
        }
      ]
    },
    {
      "cell_type": "code",
      "metadata": {
        "id": "kL5I4slAYiqM",
        "colab_type": "code",
        "colab": {
          "base_uri": "https://localhost:8080/",
          "height": 102
        },
        "outputId": "cae3b195-db50-4b3f-ce97-ddf38f603d83"
      },
      "source": [
        "x[:,:]"
      ],
      "execution_count": 17,
      "outputs": [
        {
          "output_type": "execute_result",
          "data": {
            "text/plain": [
              "tensor([[0.9542, 3.1692, 1.0284],\n",
              "        [0.9670, 3.6976, 3.2176],\n",
              "        [3.8231, 4.9259, 1.5115],\n",
              "        [2.5237, 0.9576, 2.0122],\n",
              "        [0.2696, 1.8330, 1.4701]], dtype=torch.float64)"
            ]
          },
          "metadata": {
            "tags": []
          },
          "execution_count": 17
        }
      ]
    },
    {
      "cell_type": "code",
      "metadata": {
        "id": "tgB1CurfYiqN",
        "colab_type": "code",
        "colab": {
          "base_uri": "https://localhost:8080/",
          "height": 34
        },
        "outputId": "f996c31b-9a26-40e0-ee26-da71c99a431e"
      },
      "source": [
        "x[:,-1]"
      ],
      "execution_count": 18,
      "outputs": [
        {
          "output_type": "execute_result",
          "data": {
            "text/plain": [
              "tensor([1.0284, 3.2176, 1.5115, 2.0122, 1.4701], dtype=torch.float64)"
            ]
          },
          "metadata": {
            "tags": []
          },
          "execution_count": 18
        }
      ]
    },
    {
      "cell_type": "code",
      "metadata": {
        "id": "8LImqzNMYiqO",
        "colab_type": "code",
        "colab": {
          "base_uri": "https://localhost:8080/",
          "height": 34
        },
        "outputId": "512f1d9b-3be0-48f9-94a3-146920ff8360"
      },
      "source": [
        "x[:,-1][1:3]"
      ],
      "execution_count": 19,
      "outputs": [
        {
          "output_type": "execute_result",
          "data": {
            "text/plain": [
              "tensor([3.2176, 1.5115], dtype=torch.float64)"
            ]
          },
          "metadata": {
            "tags": []
          },
          "execution_count": 19
        }
      ]
    },
    {
      "cell_type": "code",
      "metadata": {
        "id": "5v1kfeBQYiqQ",
        "colab_type": "code",
        "colab": {
          "base_uri": "https://localhost:8080/",
          "height": 153
        },
        "outputId": "ae8ecfa0-db2b-4ef2-91ea-06f4d1529f01"
      },
      "source": [
        "x = torch.rand(4,4)\n",
        "y = x.view(16)\n",
        "z = x.view(-1,8)\n",
        "print(x,\"\\n\",y,\"\\n\",z)"
      ],
      "execution_count": 20,
      "outputs": [
        {
          "output_type": "stream",
          "text": [
            "tensor([[0.4197, 0.3031, 0.7732, 0.6365],\n",
            "        [0.6010, 0.0260, 0.3372, 0.7509],\n",
            "        [0.8545, 0.7895, 0.6350, 0.4174],\n",
            "        [0.1330, 0.3036, 0.6739, 0.1841]]) \n",
            " tensor([0.4197, 0.3031, 0.7732, 0.6365, 0.6010, 0.0260, 0.3372, 0.7509, 0.8545,\n",
            "        0.7895, 0.6350, 0.4174, 0.1330, 0.3036, 0.6739, 0.1841]) \n",
            " tensor([[0.4197, 0.3031, 0.7732, 0.6365, 0.6010, 0.0260, 0.3372, 0.7509],\n",
            "        [0.8545, 0.7895, 0.6350, 0.4174, 0.1330, 0.3036, 0.6739, 0.1841]])\n"
          ],
          "name": "stdout"
        }
      ]
    },
    {
      "cell_type": "code",
      "metadata": {
        "id": "-Ww3rCMTYiqR",
        "colab_type": "code",
        "colab": {
          "base_uri": "https://localhost:8080/",
          "height": 51
        },
        "outputId": "e7d5c494-3775-40a2-8f53-fbc69467581c"
      },
      "source": [
        "x = torch.rand(1)\n",
        "print(x)\n",
        "print(x.item())"
      ],
      "execution_count": 21,
      "outputs": [
        {
          "output_type": "stream",
          "text": [
            "tensor([0.3989])\n",
            "0.3989484906196594\n"
          ],
          "name": "stdout"
        }
      ]
    },
    {
      "cell_type": "code",
      "metadata": {
        "id": "CHIRHLVJYiqS",
        "colab_type": "code",
        "colab": {
          "base_uri": "https://localhost:8080/",
          "height": 34
        },
        "outputId": "7d8acf70-417f-401a-b3f5-674838430c46"
      },
      "source": [
        "a = torch.ones(5)\n",
        "print(a)"
      ],
      "execution_count": 22,
      "outputs": [
        {
          "output_type": "stream",
          "text": [
            "tensor([1., 1., 1., 1., 1.])\n"
          ],
          "name": "stdout"
        }
      ]
    },
    {
      "cell_type": "code",
      "metadata": {
        "id": "0NO9qMVpYiqT",
        "colab_type": "code",
        "colab": {
          "base_uri": "https://localhost:8080/",
          "height": 34
        },
        "outputId": "cebc97e1-304f-4f54-af46-b4c0d961f96a"
      },
      "source": [
        "b = a.numpy()\n",
        "print(b)"
      ],
      "execution_count": 23,
      "outputs": [
        {
          "output_type": "stream",
          "text": [
            "[1. 1. 1. 1. 1.]\n"
          ],
          "name": "stdout"
        }
      ]
    },
    {
      "cell_type": "code",
      "metadata": {
        "id": "VcLzGTVyYiqU",
        "colab_type": "code",
        "colab": {
          "base_uri": "https://localhost:8080/",
          "height": 51
        },
        "outputId": "b409cb96-a2ef-4688-85f8-daead1ddcef2"
      },
      "source": [
        "a.add_(2)\n",
        "print(a)\n",
        "print(b)"
      ],
      "execution_count": 24,
      "outputs": [
        {
          "output_type": "stream",
          "text": [
            "tensor([3., 3., 3., 3., 3.])\n",
            "[3. 3. 3. 3. 3.]\n"
          ],
          "name": "stdout"
        }
      ]
    },
    {
      "cell_type": "code",
      "metadata": {
        "id": "GDAFDjObYiqV",
        "colab_type": "code",
        "colab": {
          "base_uri": "https://localhost:8080/",
          "height": 85
        },
        "outputId": "6c7fca1d-3f22-49bb-c048-809e2af173c9"
      },
      "source": [
        "import numpy as np\n",
        "a = np.ones(5)\n",
        "b = torch.from_numpy(a)\n",
        "print(a)\n",
        "print(b)\n",
        "np.add(a,1,out=a)\n",
        "print(a)\n",
        "print(b)"
      ],
      "execution_count": 25,
      "outputs": [
        {
          "output_type": "stream",
          "text": [
            "[1. 1. 1. 1. 1.]\n",
            "tensor([1., 1., 1., 1., 1.], dtype=torch.float64)\n",
            "[2. 2. 2. 2. 2.]\n",
            "tensor([2., 2., 2., 2., 2.], dtype=torch.float64)\n"
          ],
          "name": "stdout"
        }
      ]
    },
    {
      "cell_type": "code",
      "metadata": {
        "id": "57K8Zg1vYiqW",
        "colab_type": "code",
        "colab": {
          "base_uri": "https://localhost:8080/",
          "height": 34
        },
        "outputId": "9870a242-120f-4b22-f691-3c76d33fd0e0"
      },
      "source": [
        "if torch.cuda.is_available():\n",
        "    print(\"How? Hmm, I have CUDA in this machine!\")\n",
        "else:\n",
        "    print(\"Thats what I thought! No CUDA on this machine!\")"
      ],
      "execution_count": 26,
      "outputs": [
        {
          "output_type": "stream",
          "text": [
            "Thats what I thought! No CUDA on this machine!\n"
          ],
          "name": "stdout"
        }
      ]
    },
    {
      "cell_type": "code",
      "metadata": {
        "id": "Ol3YGdwuYiqX",
        "colab_type": "code",
        "colab": {}
      },
      "source": [
        ""
      ],
      "execution_count": 0,
      "outputs": []
    }
  ]
}