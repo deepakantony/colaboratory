{
  "nbformat": 4,
  "nbformat_minor": 0,
  "metadata": {
    "colab": {
      "name": "testing_gpu_acceleration",
      "version": "0.3.2",
      "provenance": [],
      "include_colab_link": true
    },
    "kernelspec": {
      "name": "python3",
      "display_name": "Python 3"
    },
    "accelerator": "GPU"
  },
  "cells": [
    {
      "cell_type": "markdown",
      "metadata": {
        "id": "view-in-github",
        "colab_type": "text"
      },
      "source": [
        "<a href=\"https://colab.research.google.com/github/deepakantony/colaboratory/blob/master/testing_gpu_acceleration.ipynb\" target=\"_parent\"><img src=\"https://colab.research.google.com/assets/colab-badge.svg\" alt=\"Open In Colab\"/></a>"
      ]
    },
    {
      "metadata": {
        "id": "pI1uA6L1eFzR",
        "colab_type": "code",
        "colab": {}
      },
      "cell_type": "code",
      "source": [
        "import torch\n",
        "import numpy as ni\n",
        "import time\n",
        "import numpy.linalg as LA\n",
        "from scipy.linalg import orth"
      ],
      "execution_count": 0,
      "outputs": []
    },
    {
      "metadata": {
        "id": "676d7OTEeHv5",
        "colab_type": "code",
        "outputId": "4463be3c-d853-42d4-da49-287ac7d28c0a",
        "colab": {
          "base_uri": "https://localhost:8080/",
          "height": 34
        }
      },
      "cell_type": "code",
      "source": [
        "device = torch.device(\"cuda\") if torch.cuda.is_available() else torch.device(\"cpu\")\n",
        "device"
      ],
      "execution_count": 0,
      "outputs": [
        {
          "output_type": "execute_result",
          "data": {
            "text/plain": [
              "device(type='cuda')"
            ]
          },
          "metadata": {
            "tags": []
          },
          "execution_count": 12
        }
      ]
    },
    {
      "metadata": {
        "id": "13jupJZ0iM9y",
        "colab_type": "code",
        "colab": {}
      },
      "cell_type": "code",
      "source": [
        "A = torch.randn(3000, 3000)\n",
        "B = torch.randn(3000, 3000)\n",
        "iters = 500"
      ],
      "execution_count": 0,
      "outputs": []
    },
    {
      "metadata": {
        "id": "kvRMqxrwePoO",
        "colab_type": "code",
        "outputId": "bd43dbb5-6080-4f96-ca6f-16cb80a2092d",
        "colab": {
          "base_uri": "https://localhost:8080/",
          "height": 51
        }
      },
      "cell_type": "code",
      "source": [
        "t1 = time.time()\n",
        "A_gpu = A.cuda()\n",
        "B_gpu = B.cuda()\n",
        "C_gpu = torch.zeros(3000, 3000, device=torch.device(\"cuda\"))\n",
        "for _ in range(iters):\n",
        "  C_gpu = C_gpu + A_gpu.mm(B_gpu)\n",
        "out = C_gpu.cpu()\n",
        "t2 = time.time()\n",
        "print(LA.norm(out))\n",
        "print(f\"GPU Time: {t2-t1}\")"
      ],
      "execution_count": 0,
      "outputs": [
        {
          "output_type": "stream",
          "text": [
            "82137250.0\n",
            "GPU Time: 7.271770477294922\n"
          ],
          "name": "stdout"
        }
      ]
    },
    {
      "metadata": {
        "id": "J4c69RExh67c",
        "colab_type": "code",
        "outputId": "811a6551-f748-4076-bb89-a32f0eeffc85",
        "colab": {
          "base_uri": "https://localhost:8080/",
          "height": 51
        }
      },
      "cell_type": "code",
      "source": [
        "t1 = time.time()\n",
        "C = torch.zeros(3000, 3000)\n",
        "for _ in range(iters):\n",
        "  C = C + A.mm(B)\n",
        "out = C\n",
        "t2 = time.time()\n",
        "print(LA.norm(out))\n",
        "print(f\"CPU Time: {t2-t1}\")"
      ],
      "execution_count": 0,
      "outputs": [
        {
          "output_type": "stream",
          "text": [
            "82137250.0\n",
            "CPU Time: 352.89118480682373\n"
          ],
          "name": "stdout"
        }
      ]
    },
    {
      "metadata": {
        "id": "nam4fSwMin5V",
        "colab_type": "code",
        "colab": {}
      },
      "cell_type": "code",
      "source": [
        "def run_iter_cpu(phi, psi, y, niters):\n",
        "    x = np.dot(phi.T, y)\n",
        "    for _ in range(niters):\n",
        "        x = x + np.dot(phi.T, y - np.dot(phi, x))\n",
        "        xhat = np.dot(psi.T, x)\n",
        "        t = np.median(abs(xhat))\n",
        "        xhat[abs(xhat) < t] = 0  # thresholding\n",
        "        x = np.dot(psi, xhat)\n",
        "        x = x + np.dot(phi.T, y - np.dot(phi, x))\n",
        "    return x"
      ],
      "execution_count": 0,
      "outputs": []
    },
    {
      "metadata": {
        "id": "czYnNsCLsT3w",
        "colab_type": "code",
        "colab": {}
      },
      "cell_type": "code",
      "source": [
        "def run_iter_pytorch_gpu(in_phi, in_psi, in_y, niters):\n",
        "    assert torch.cuda.is_available(), \"There is no point running this without CUDA!\"\n",
        "\n",
        "    phi = torch.from_numpy(in_phi).cuda()\n",
        "    psi = torch.from_numpy(in_psi).cuda()\n",
        "    \n",
        "    y = torch.from_numpy(in_y).cuda()\n",
        "    x = torch.mm(phi.t(), y)\n",
        "    for _ in range(niters):\n",
        "        x = x + torch.mm(phi.t(), y - torch.mm(phi, x))\n",
        "        xhat = torch.mm(psi.t(), x)\n",
        "        t = torch.median(torch.abs(xhat))\n",
        "        xhat[torch.abs(xhat) < t] = 0  # thresholding\n",
        "        x = torch.mm(psi, xhat)\n",
        "        x = x + torch.mm(phi.t(), y - torch.mm(phi, x))\n",
        "\n",
        "    x_out = x.cpu().numpy()\n",
        "    return x_out"
      ],
      "execution_count": 0,
      "outputs": []
    },
    {
      "metadata": {
        "id": "hAR3r9W_saJf",
        "colab_type": "code",
        "outputId": "62c4e516-e899-4c0d-87e4-10f69b2750a4",
        "colab": {
          "base_uri": "https://localhost:8080/",
          "height": 34
        }
      },
      "cell_type": "code",
      "source": [
        "n = 256\n",
        "ni = 1000\n",
        "b = 50\n",
        "\n",
        "N = b*b\n",
        "m = N//4\n",
        "nb = n*n//N\n",
        "print(f'n = {n}  b = {b}  N = {N}  nb = {nb}  m = {m}  niters {ni}')"
      ],
      "execution_count": 0,
      "outputs": [
        {
          "output_type": "stream",
          "text": [
            "n = 256  b = 50  N = 2500  nb = 26  m = 625  niters 1000\n"
          ],
          "name": "stdout"
        }
      ]
    },
    {
      "metadata": {
        "id": "fsvzlAhlsrLF",
        "colab_type": "code",
        "colab": {}
      },
      "cell_type": "code",
      "source": [
        "phi = np.random.randn(N, N)\n",
        "phi = orth(phi.T).T  # make orthogonal\n",
        "phi = phi[:m, :]  # take m rows\n",
        "\n",
        "psi = np.random.randn(N, N)\n",
        "psi = orth(psi.T)\n",
        "\n",
        "y = np.random.randn(m, nb)\n",
        "\n",
        "nphi = np.linalg.norm(phi)\n",
        "npsi = np.linalg.norm(psi)"
      ],
      "execution_count": 0,
      "outputs": []
    },
    {
      "metadata": {
        "id": "Uqst7q3-s20L",
        "colab_type": "code",
        "outputId": "eff19240-20f5-4e00-9bfd-da5ae4c2d66e",
        "colab": {
          "base_uri": "https://localhost:8080/",
          "height": 51
        }
      },
      "cell_type": "code",
      "source": [
        "t0 = time.time()\n",
        "x = run_iter_cpu(phi, psi, y, ni)\n",
        "t1 = time.time()\n",
        "nx = np.linalg.norm(x)\n",
        "print(f'CPU Time: {t1-t0:.3f} sec\\nnorms phi {nphi:.4e} psi {npsi:.4e}  x {nx:.4e}')"
      ],
      "execution_count": 0,
      "outputs": [
        {
          "output_type": "stream",
          "text": [
            "CPU Time: 65.150 sec\n",
            "norms phi 2.5000e+01 psi 5.0000e+01  x 1.3684e+02\n"
          ],
          "name": "stdout"
        }
      ]
    },
    {
      "metadata": {
        "id": "hxLlInHXs-Vi",
        "colab_type": "code",
        "outputId": "90fc3aa1-e2d0-491f-8695-6298386c1490",
        "colab": {
          "base_uri": "https://localhost:8080/",
          "height": 51
        }
      },
      "cell_type": "code",
      "source": [
        "t0 = time.time()\n",
        "x = run_iter_pytorch_gpu(phi, psi, y, ni)\n",
        "t1 = time.time()\n",
        "nx = np.linalg.norm(x)\n",
        "print(f'Pytorch GPU Time: {t1-t0:.3f} sec\\nnorms phi {nphi:.4e} psi {npsi:.4e}  x {nx:.4e}')   "
      ],
      "execution_count": 0,
      "outputs": [
        {
          "output_type": "stream",
          "text": [
            "Pytorch GPU Time: 12.640 sec\n",
            "norms phi 2.5000e+01 psi 5.0000e+01  x 1.3684e+02\n"
          ],
          "name": "stdout"
        }
      ]
    },
    {
      "metadata": {
        "id": "pPB4rfkztaCf",
        "colab_type": "code",
        "colab": {}
      },
      "cell_type": "code",
      "source": [
        ""
      ],
      "execution_count": 0,
      "outputs": []
    }
  ]
}