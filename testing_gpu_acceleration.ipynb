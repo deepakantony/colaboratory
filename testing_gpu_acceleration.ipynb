{
  "nbformat": 4,
  "nbformat_minor": 0,
  "metadata": {
    "colab": {
      "name": "testing_gpu_acceleration",
      "version": "0.3.2",
      "provenance": [],
      "collapsed_sections": [],
      "include_colab_link": true
    },
    "kernelspec": {
      "name": "python3",
      "display_name": "Python 3"
    },
    "accelerator": "GPU"
  },
  "cells": [
    {
      "cell_type": "markdown",
      "metadata": {
        "id": "view-in-github",
        "colab_type": "text"
      },
      "source": [
        "<a href=\"https://colab.research.google.com/github/deepakantony/colaboratory/blob/master/testing_gpu_acceleration.ipynb\" target=\"_parent\"><img src=\"https://colab.research.google.com/assets/colab-badge.svg\" alt=\"Open In Colab\"/></a>"
      ]
    },
    {
      "metadata": {
        "id": "pI1uA6L1eFzR",
        "colab_type": "code",
        "colab": {}
      },
      "cell_type": "code",
      "source": [
        "import torch\n",
        "import numpy as np\n",
        "import time\n",
        "import numpy.linalg as LA\n",
        "from scipy.linalg import orth"
      ],
      "execution_count": 0,
      "outputs": []
    },
    {
      "metadata": {
        "id": "676d7OTEeHv5",
        "colab_type": "code",
        "outputId": "5f4f9d14-2fd6-4771-c7c4-debfef9545f2",
        "colab": {
          "base_uri": "https://localhost:8080/",
          "height": 34
        }
      },
      "cell_type": "code",
      "source": [
        "device = torch.device(\"cuda\") if torch.cuda.is_available() else torch.device(\"cpu\")\n",
        "device"
      ],
      "execution_count": 0,
      "outputs": [
        {
          "output_type": "execute_result",
          "data": {
            "text/plain": [
              "device(type='cuda')"
            ]
          },
          "metadata": {
            "tags": []
          },
          "execution_count": 10
        }
      ]
    },
    {
      "metadata": {
        "id": "13jupJZ0iM9y",
        "colab_type": "code",
        "colab": {}
      },
      "cell_type": "code",
      "source": [
        "A = torch.randn(3000, 3000)\n",
        "B = torch.randn(3000, 3000)\n",
        "iters = 10"
      ],
      "execution_count": 0,
      "outputs": []
    },
    {
      "metadata": {
        "id": "kvRMqxrwePoO",
        "colab_type": "code",
        "outputId": "07737f05-b72a-46f2-cd93-31500f48a963",
        "colab": {
          "base_uri": "https://localhost:8080/",
          "height": 51
        }
      },
      "cell_type": "code",
      "source": [
        "t1 = time.time()\n",
        "A_gpu = A.cuda()\n",
        "B_gpu = B.cuda()\n",
        "C_gpu = torch.zeros(3000, 3000, device=torch.device(\"cuda\"))\n",
        "for _ in range(iters):\n",
        "  C_gpu = C_gpu + A_gpu.mm(B_gpu)\n",
        "out = C_gpu.cpu()\n",
        "t2 = time.time()\n",
        "print(LA.norm(out))\n",
        "print(f\"GPU Time: {t2-t1}\")"
      ],
      "execution_count": 0,
      "outputs": [
        {
          "output_type": "stream",
          "text": [
            "1643364.8\n",
            "GPU Time: 0.2230393886566162\n"
          ],
          "name": "stdout"
        }
      ]
    },
    {
      "metadata": {
        "id": "J4c69RExh67c",
        "colab_type": "code",
        "outputId": "c698d2bf-490c-4a57-f683-d81bd7d958d9",
        "colab": {
          "base_uri": "https://localhost:8080/",
          "height": 51
        }
      },
      "cell_type": "code",
      "source": [
        "t1 = time.time()\n",
        "C = torch.zeros(3000, 3000)\n",
        "for _ in range(iters):\n",
        "  C = C + A.mm(B)\n",
        "out = C\n",
        "t2 = time.time()\n",
        "print(LA.norm(out))\n",
        "print(f\"CPU Time: {t2-t1}\")"
      ],
      "execution_count": 0,
      "outputs": [
        {
          "output_type": "stream",
          "text": [
            "1643364.8\n",
            "CPU Time: 7.0200417041778564\n"
          ],
          "name": "stdout"
        }
      ]
    },
    {
      "metadata": {
        "id": "nam4fSwMin5V",
        "colab_type": "code",
        "colab": {}
      },
      "cell_type": "code",
      "source": [
        "def run_iter_cpu(phi, psi, y, niters):\n",
        "    x = np.dot(phi.T, y)\n",
        "    for _ in range(niters):\n",
        "        x = x + np.dot(phi.T, y - np.dot(phi, x))\n",
        "        xhat = np.dot(psi.T, x)\n",
        "        t = np.median(abs(xhat))\n",
        "        xhat[abs(xhat) < t] = 0  # thresholding\n",
        "        x = np.dot(psi, xhat)\n",
        "        x = x + np.dot(phi.T, y - np.dot(phi, x))\n",
        "    return x"
      ],
      "execution_count": 0,
      "outputs": []
    },
    {
      "metadata": {
        "id": "czYnNsCLsT3w",
        "colab_type": "code",
        "colab": {}
      },
      "cell_type": "code",
      "source": [
        "def run_iter_pytorch_gpu(in_phi, in_psi, in_y, niters):\n",
        "    assert torch.cuda.is_available(), \"There is no point running this without CUDA!\"\n",
        "\n",
        "    # CUDA does better on float than on doubles\n",
        "    phi = torch.from_numpy(in_phi).float().cuda()\n",
        "    psi = torch.from_numpy(in_psi).float().cuda()\n",
        "    y = torch.from_numpy(in_y).float().cuda()\n",
        "    \n",
        "    print(f\"phi.dtype: {phi.dtype}\")\n",
        "    print(f\"in_phi.dtype: {in_phi.dtype}\")\n",
        "    \n",
        "    x = torch.mm(phi.t(), y)\n",
        "    for _ in range(niters):\n",
        "        x = x + torch.mm(phi.t(), y - torch.mm(phi, x))\n",
        "        xhat = torch.mm(psi.t(), x)\n",
        "        t = torch.median(torch.abs(xhat))\n",
        "        xhat[torch.abs(xhat) < t] = 0  # thresholding\n",
        "        x = torch.mm(psi, xhat)\n",
        "        x = x + torch.mm(phi.t(), y - torch.mm(phi, x))\n",
        "\n",
        "    x_out = x.cpu().numpy()\n",
        "    return x_out"
      ],
      "execution_count": 0,
      "outputs": []
    },
    {
      "metadata": {
        "id": "hAR3r9W_saJf",
        "colab_type": "code",
        "outputId": "650b0d92-6088-4cb4-c63e-a315b3211d46",
        "colab": {
          "base_uri": "https://localhost:8080/",
          "height": 34
        }
      },
      "cell_type": "code",
      "source": [
        "n = 256\n",
        "ni = 1000\n",
        "b = 64\n",
        "\n",
        "N = b*b\n",
        "m = N//4\n",
        "nb = n*n//N\n",
        "print(f'n = {n}  b = {b}  N = {N}  nb = {nb}  m = {m}  niters {ni}')"
      ],
      "execution_count": 0,
      "outputs": [
        {
          "output_type": "stream",
          "text": [
            "n = 256  b = 64  N = 4096  nb = 16  m = 1024  niters 1000\n"
          ],
          "name": "stdout"
        }
      ]
    },
    {
      "metadata": {
        "id": "fsvzlAhlsrLF",
        "colab_type": "code",
        "colab": {}
      },
      "cell_type": "code",
      "source": [
        "phi = np.random.randn(N, N)\n",
        "phi = orth(phi.T).T  # make orthogonal\n",
        "phi = phi[:m, :]  # take m rows\n",
        "\n",
        "psi = np.random.randn(N, N)\n",
        "psi = orth(psi.T)\n",
        "\n",
        "y = np.random.randn(m, nb)\n",
        "\n",
        "nphi = np.linalg.norm(phi)\n",
        "npsi = np.linalg.norm(psi)"
      ],
      "execution_count": 0,
      "outputs": []
    },
    {
      "metadata": {
        "id": "Uqst7q3-s20L",
        "colab_type": "code",
        "outputId": "ccf23dae-d84d-4c51-caad-50ade521175c",
        "colab": {
          "base_uri": "https://localhost:8080/",
          "height": 51
        }
      },
      "cell_type": "code",
      "source": [
        "t0 = time.time()\n",
        "x = run_iter_cpu(phi, psi, y, ni)\n",
        "t1 = time.time()\n",
        "nx = np.linalg.norm(x)\n",
        "print(f'CPU Time: {t1-t0:.3f} sec\\nnorms phi {nphi:.4e} psi {npsi:.4e}  x {nx:.4e}')"
      ],
      "execution_count": 0,
      "outputs": [
        {
          "output_type": "stream",
          "text": [
            "CPU Time: 140.810 sec\n",
            "norms phi 3.2000e+01 psi 6.4000e+01  x 1.3789e+02\n"
          ],
          "name": "stdout"
        }
      ]
    },
    {
      "metadata": {
        "id": "hxLlInHXs-Vi",
        "colab_type": "code",
        "outputId": "7833156a-934c-436e-c183-e305f4c0e394",
        "colab": {
          "base_uri": "https://localhost:8080/",
          "height": 85
        }
      },
      "cell_type": "code",
      "source": [
        "t0 = time.time()\n",
        "x = run_iter_pytorch_gpu(phi, psi, y, ni)\n",
        "t1 = time.time()\n",
        "nx = np.linalg.norm(x)\n",
        "print(f'Pytorch GPU Time: {t1-t0:.3f} sec\\nnorms phi {nphi:.4e} psi {npsi:.4e}  x {nx:.4e}')   "
      ],
      "execution_count": 0,
      "outputs": [
        {
          "output_type": "stream",
          "text": [
            "phi.dtype: torch.float32\n",
            "in_phi.dtype: float64\n",
            "Pytorch GPU Time: 3.663 sec\n",
            "norms phi 3.2000e+01 psi 6.4000e+01  x 1.3789e+02\n"
          ],
          "name": "stdout"
        }
      ]
    },
    {
      "metadata": {
        "id": "pPB4rfkztaCf",
        "colab_type": "code",
        "colab": {}
      },
      "cell_type": "code",
      "source": [
        ""
      ],
      "execution_count": 0,
      "outputs": []
    }
  ]
}